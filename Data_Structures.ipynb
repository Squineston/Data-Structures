{
  "nbformat": 4,
  "nbformat_minor": 0,
  "metadata": {
    "colab": {
      "provenance": [],
      "authorship_tag": "ABX9TyM22cOdxL/k4h2uDsDhj3Y9",
      "include_colab_link": true
    },
    "kernelspec": {
      "name": "python3",
      "display_name": "Python 3"
    },
    "language_info": {
      "name": "python"
    }
  },
  "cells": [
    {
      "cell_type": "markdown",
      "metadata": {
        "id": "view-in-github",
        "colab_type": "text"
      },
      "source": [
        "<a href=\"https://colab.research.google.com/github/Squineston/Data-Structures/blob/main/Data_Structures.ipynb\" target=\"_parent\"><img src=\"https://colab.research.google.com/assets/colab-badge.svg\" alt=\"Open In Colab\"/></a>"
      ]
    },
    {
      "cell_type": "code",
      "source": [
        "import pandas"
      ],
      "metadata": {
        "id": "kyYHwnylFhnc"
      },
      "execution_count": 12,
      "outputs": []
    },
    {
      "cell_type": "code",
      "source": [
        "integer = int(input(\"Please enter an integer value greater than 0:\"))"
      ],
      "metadata": {
        "colab": {
          "base_uri": "https://localhost:8080/"
        },
        "id": "wJqCWIuK7Ix7",
        "outputId": "f6e0e962-3977-4b54-c121-7da035ca8f02"
      },
      "execution_count": 13,
      "outputs": [
        {
          "name": "stdout",
          "output_type": "stream",
          "text": [
            "Please enter an integer value greater than 0:1\n"
          ]
        }
      ]
    },
    {
      "cell_type": "code",
      "source": [
        "while integer <= 0:\n",
        "  integer = int(input(\"Invalid Input. Please enter an integer value greater than 0:\"))"
      ],
      "metadata": {
        "id": "fxuP6JAZ7gp3"
      },
      "execution_count": 14,
      "outputs": []
    },
    {
      "cell_type": "code",
      "execution_count": 19,
      "metadata": {
        "id": "_QY0Gyh765I4"
      },
      "outputs": [],
      "source": [
        "def fibonacci(n):\n",
        "  if n == 1:\n",
        "    sequence = [0]\n",
        "    return sequence\n",
        "  else:\n",
        "    sequence = [0, 1]\n",
        "    for i in range(2, n):\n",
        "      sequence.append(sequence[i - 1] + sequence[i - 2])\n",
        "      return sequence"
      ]
    },
    {
      "cell_type": "code",
      "source": [
        "def even(n):\n",
        "    sequence = []\n",
        "    for i in range(0, n*2):\n",
        "      if i%2 == 0:\n",
        "        sequence.append(i)\n",
        "    return sequence"
      ],
      "metadata": {
        "id": "vQBsvIs99Hfo"
      },
      "execution_count": 20,
      "outputs": []
    },
    {
      "cell_type": "code",
      "source": [
        "def odd(n):\n",
        "    sequence = []\n",
        "    for i in range(0, n*2):\n",
        "      if i%2 != 0:\n",
        "        sequence.append(i)\n",
        "    return sequence"
      ],
      "metadata": {
        "id": "ROue9z-tEhu0"
      },
      "execution_count": 21,
      "outputs": []
    },
    {
      "cell_type": "code",
      "source": [
        "data = {\n",
        "  \"Even\": even(integer),\n",
        "  \"Odd\": odd(integer),\n",
        "  \"Fibonacci\": fibonacci(integer)\n",
        "}"
      ],
      "metadata": {
        "id": "4yTCAhSuE6-U"
      },
      "execution_count": 22,
      "outputs": []
    },
    {
      "cell_type": "code",
      "source": [
        "df = pandas.DataFrame(data)"
      ],
      "metadata": {
        "id": "8CuixYzHFVXt"
      },
      "execution_count": 23,
      "outputs": []
    },
    {
      "cell_type": "code",
      "source": [
        " print(df)"
      ],
      "metadata": {
        "colab": {
          "base_uri": "https://localhost:8080/"
        },
        "id": "Aai3QpdO6_HV",
        "outputId": "a3c10b41-a6e6-43a8-f818-991f60887802"
      },
      "execution_count": 24,
      "outputs": [
        {
          "output_type": "stream",
          "name": "stdout",
          "text": [
            "   Even  Odd  Fibonacci\n",
            "0     0    1          0\n"
          ]
        }
      ]
    }
  ]
}