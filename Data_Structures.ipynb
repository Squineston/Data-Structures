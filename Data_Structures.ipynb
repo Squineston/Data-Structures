{
  "nbformat": 4,
  "nbformat_minor": 0,
  "metadata": {
    "colab": {
      "provenance": [],
      "authorship_tag": "ABX9TyP+YK4XjBBUzR2sZI02pPHd",
      "include_colab_link": true
    },
    "kernelspec": {
      "name": "python3",
      "display_name": "Python 3"
    },
    "language_info": {
      "name": "python"
    }
  },
  "cells": [
    {
      "cell_type": "markdown",
      "metadata": {
        "id": "view-in-github",
        "colab_type": "text"
      },
      "source": [
        "<a href=\"https://colab.research.google.com/github/Squineston/Data-Structures/blob/main/Data_Structures.ipynb\" target=\"_parent\"><img src=\"https://colab.research.google.com/assets/colab-badge.svg\" alt=\"Open In Colab\"/></a>"
      ]
    },
    {
      "cell_type": "code",
      "source": [
        "import pandas"
      ],
      "metadata": {
        "id": "kyYHwnylFhnc"
      },
      "execution_count": 18,
      "outputs": []
    },
    {
      "cell_type": "code",
      "source": [
        "integer = int(input(\"Please enter an integer value greater than 0:\"))"
      ],
      "metadata": {
        "colab": {
          "base_uri": "https://localhost:8080/"
        },
        "id": "wJqCWIuK7Ix7",
        "outputId": "2ec2f524-dee1-4b51-cf4a-a7bdcf890621"
      },
      "execution_count": 34,
      "outputs": [
        {
          "name": "stdout",
          "output_type": "stream",
          "text": [
            "Please enter an integer value greater than 0:20\n"
          ]
        }
      ]
    },
    {
      "cell_type": "code",
      "source": [
        "while integer <= 0:\n",
        "  integer = int(input(\"Invalid Input. Please enter an integer value greater than 0:\"))"
      ],
      "metadata": {
        "id": "fxuP6JAZ7gp3"
      },
      "execution_count": 35,
      "outputs": []
    },
    {
      "cell_type": "code",
      "execution_count": 36,
      "metadata": {
        "id": "_QY0Gyh765I4"
      },
      "outputs": [],
      "source": [
        "def fibonacci(n):\n",
        "  if n == 1:\n",
        "    sequence = [0]\n",
        "    return sequence\n",
        "  else:\n",
        "    sequence = [0, 1]\n",
        "    for i in range(2, n):\n",
        "      sequence.append(sequence[i - 1] + sequence[i - 2])\n",
        "    return sequence"
      ]
    },
    {
      "cell_type": "code",
      "source": [
        "def even(n):\n",
        "    sequence = []\n",
        "    for i in range(0, n*2):\n",
        "      if i%2 == 0:\n",
        "        sequence.append(i)\n",
        "    return sequence"
      ],
      "metadata": {
        "id": "vQBsvIs99Hfo"
      },
      "execution_count": 37,
      "outputs": []
    },
    {
      "cell_type": "code",
      "source": [
        "def odd(n):\n",
        "    sequence = []\n",
        "    for i in range(0, n*2):\n",
        "      if i%2 != 0:\n",
        "        sequence.append(i)\n",
        "    return sequence"
      ],
      "metadata": {
        "id": "ROue9z-tEhu0"
      },
      "execution_count": 38,
      "outputs": []
    },
    {
      "cell_type": "code",
      "source": [
        "data = {\n",
        "  \"Even\": even(integer),\n",
        "  \"Odd\": odd(integer),\n",
        "  \"Fibonacci\": fibonacci(integer)\n",
        "}"
      ],
      "metadata": {
        "id": "4yTCAhSuE6-U"
      },
      "execution_count": 39,
      "outputs": []
    },
    {
      "cell_type": "code",
      "source": [
        "df = pandas.DataFrame(data)"
      ],
      "metadata": {
        "id": "8CuixYzHFVXt"
      },
      "execution_count": 40,
      "outputs": []
    },
    {
      "cell_type": "code",
      "source": [
        " print(df)"
      ],
      "metadata": {
        "colab": {
          "base_uri": "https://localhost:8080/"
        },
        "id": "Aai3QpdO6_HV",
        "outputId": "55e500e1-b76a-4393-bb5e-33b9c3b6fb92"
      },
      "execution_count": 41,
      "outputs": [
        {
          "output_type": "stream",
          "name": "stdout",
          "text": [
            "    Even  Odd  Fibonacci\n",
            "0      0    1          0\n",
            "1      2    3          1\n",
            "2      4    5          1\n",
            "3      6    7          2\n",
            "4      8    9          3\n",
            "5     10   11          5\n",
            "6     12   13          8\n",
            "7     14   15         13\n",
            "8     16   17         21\n",
            "9     18   19         34\n",
            "10    20   21         55\n",
            "11    22   23         89\n",
            "12    24   25        144\n",
            "13    26   27        233\n",
            "14    28   29        377\n",
            "15    30   31        610\n",
            "16    32   33        987\n",
            "17    34   35       1597\n",
            "18    36   37       2584\n",
            "19    38   39       4181\n"
          ]
        }
      ]
    }
  ]
}