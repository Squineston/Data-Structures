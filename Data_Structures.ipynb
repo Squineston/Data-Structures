{
  "nbformat": 4,
  "nbformat_minor": 0,
  "metadata": {
    "colab": {
      "provenance": [],
      "authorship_tag": "ABX9TyMJ9YNmoVxXgPCoy7m3Ejvi",
      "include_colab_link": true
    },
    "kernelspec": {
      "name": "python3",
      "display_name": "Python 3"
    },
    "language_info": {
      "name": "python"
    }
  },
  "cells": [
    {
      "cell_type": "markdown",
      "metadata": {
        "id": "view-in-github",
        "colab_type": "text"
      },
      "source": [
        "<a href=\"https://colab.research.google.com/github/Squineston/Data-Structures/blob/main/Data_Structures.ipynb\" target=\"_parent\"><img src=\"https://colab.research.google.com/assets/colab-badge.svg\" alt=\"Open In Colab\"/></a>"
      ]
    },
    {
      "cell_type": "code",
      "source": [
        "import pandas"
      ],
      "metadata": {
        "id": "kyYHwnylFhnc"
      },
      "execution_count": null,
      "outputs": []
    },
    {
      "cell_type": "code",
      "source": [
        "integer = int(input(\"Please enter an integer value greater than 0:\"))"
      ],
      "metadata": {
        "colab": {
          "base_uri": "https://localhost:8080/"
        },
        "id": "wJqCWIuK7Ix7",
        "outputId": "5c2b9f11-6ae5-4e62-a2d6-d93f704038b9"
      },
      "execution_count": null,
      "outputs": [
        {
          "name": "stdout",
          "output_type": "stream",
          "text": [
            "Please enter an integer value greater than 0:0\n"
          ]
        }
      ]
    },
    {
      "cell_type": "code",
      "source": [
        "while integer <= 0:\n",
        "  integer = int(input(\"Invalid Input. Please enter an integer value greater than 0:\"))"
      ],
      "metadata": {
        "colab": {
          "base_uri": "https://localhost:8080/"
        },
        "id": "fxuP6JAZ7gp3",
        "outputId": "ade53fcf-4418-4f34-a7ff-17d72b181abe"
      },
      "execution_count": null,
      "outputs": [
        {
          "name": "stdout",
          "output_type": "stream",
          "text": [
            "Invalid Input. Please enter an integer value greater than 0:4\n"
          ]
        }
      ]
    },
    {
      "cell_type": "code",
      "execution_count": null,
      "metadata": {
        "id": "_QY0Gyh765I4"
      },
      "outputs": [],
      "source": [
        "def fibonacci(n):\n",
        "  sequence = [0, 1]\n",
        "  for i in range(2, n):\n",
        "    sequence.append(sequence[i - 1] + sequence[i - 2])\n",
        "  return sequence"
      ]
    },
    {
      "cell_type": "code",
      "source": [
        "def even(n):\n",
        "    sequence = []\n",
        "    for i in range(0, n*2):\n",
        "      if i%2 == 0:\n",
        "        sequence.append(i)\n",
        "    return sequence"
      ],
      "metadata": {
        "id": "vQBsvIs99Hfo"
      },
      "execution_count": null,
      "outputs": []
    },
    {
      "cell_type": "code",
      "source": [
        "def odd(n):\n",
        "    sequence = []\n",
        "    for i in range(0, n*2):\n",
        "      if i%2 != 0:\n",
        "        sequence.append(i)\n",
        "    return sequence"
      ],
      "metadata": {
        "id": "ROue9z-tEhu0"
      },
      "execution_count": null,
      "outputs": []
    },
    {
      "cell_type": "code",
      "source": [
        "data = {\n",
        "  \"Even\": even(integer),\n",
        "  \"Odd\": odd(integer),\n",
        "  \"Fibonacci\": fibonacci(integer)\n",
        "}"
      ],
      "metadata": {
        "id": "4yTCAhSuE6-U"
      },
      "execution_count": null,
      "outputs": []
    },
    {
      "cell_type": "code",
      "source": [
        "df = pandas.DataFrame(data)"
      ],
      "metadata": {
        "id": "8CuixYzHFVXt"
      },
      "execution_count": null,
      "outputs": []
    },
    {
      "cell_type": "code",
      "source": [
        " print(df)"
      ],
      "metadata": {
        "colab": {
          "base_uri": "https://localhost:8080/"
        },
        "id": "Aai3QpdO6_HV",
        "outputId": "0da1e475-5968-4d4e-847f-ba614546e2ba"
      },
      "execution_count": null,
      "outputs": [
        {
          "output_type": "stream",
          "name": "stdout",
          "text": [
            "   Even  Odd  Fibonacci\n",
            "0     0    1          0\n",
            "1     2    3          1\n",
            "2     4    5          1\n",
            "3     6    7          2\n"
          ]
        }
      ]
    }
  ]
}